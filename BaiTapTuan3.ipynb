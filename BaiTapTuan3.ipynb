{
 "cells": [
  {
   "cell_type": "code",
   "execution_count": 1,
   "id": "4af69c20-c5d5-40fa-945a-6f59a8a97126",
   "metadata": {},
   "outputs": [
    {
     "name": "stdin",
     "output_type": "stream",
     "text": [
      "Nhập a:  2\n",
      "Nhập b:  4\n"
     ]
    },
    {
     "name": "stdout",
     "output_type": "stream",
     "text": [
      "Sau khi hoán đổi: a = 4 , b = 2\n"
     ]
    }
   ],
   "source": [
    "a = int(input(\"Nhập a: \"))\n",
    "b = int(input(\"Nhập b: \"))\n",
    "a = a ^ b\n",
    "b = a ^ b\n",
    "a = a ^ b\n",
    "print(\"Sau khi hoán đổi: a =\", a, \", b =\", b)\n"
   ]
  },
  {
   "cell_type": "code",
   "execution_count": null,
   "id": "0046c65f-919c-4d29-8d62-111fad6ecd92",
   "metadata": {},
   "outputs": [],
   "source": [
    "n = int(input(\"Nhập số n: \"))\n",
    "if n > 0 and (n & (n - 1)) == 0:\n",
    "    print(\"Yes\")\n",
    "else:\n",
    "    print(\"No\")\n"
   ]
  },
  {
   "cell_type": "code",
   "execution_count": null,
   "id": "d76e1c1b-2f45-41bb-b98c-c2a71e8b5288",
   "metadata": {},
   "outputs": [],
   "source": [
    "m = int(input(\"Nhập m: \"))\n",
    "n = int(input(\"Nhập n: \"))\n",
    "print(\"Kết quả làm tròn xuống:\", m // n)\n"
   ]
  },
  {
   "cell_type": "code",
   "execution_count": null,
   "id": "1826e098-f7e7-4416-b6cd-c248bcbd892b",
   "metadata": {},
   "outputs": [],
   "source": [
    "import math\n",
    "m = int(input(\"Nhập m: \"))\n",
    "n = int(input(\"Nhập n: \"))\n",
    "print(\"Kết quả làm tròn lên:\", math.ceil(m / n))\n"
   ]
  },
  {
   "cell_type": "code",
   "execution_count": null,
   "id": "163ab151-1197-42c2-a0a1-ded63673f85e",
   "metadata": {},
   "outputs": [],
   "source": [
    "x = int(input(\"Nhập x: \"))\n",
    "if x % 2 == 0:\n",
    "    print(\"Even\")\n",
    "else:\n",
    "    print(\"Odd\")\n"
   ]
  },
  {
   "cell_type": "code",
   "execution_count": null,
   "id": "659111d5-9d1d-4981-a8ca-425586bf0a27",
   "metadata": {},
   "outputs": [],
   "source": [
    "a = int(input(\"Nhập a: \"))\n",
    "b = int(input(\"Nhập b: \"))\n",
    "if a < 0 and b < 0:\n",
    "    print(\"Yes\")\n",
    "else:\n",
    "    print(\"No\")\n"
   ]
  },
  {
   "cell_type": "code",
   "execution_count": null,
   "id": "1c77c8b6-77cb-4fd3-a0b9-192f4f4f4126",
   "metadata": {},
   "outputs": [],
   "source": [
    "a = input(\"Nhập chuỗi a: \")\n",
    "b = input(\"Nhập chuỗi b: \")\n",
    "if len(a) > len(b):\n",
    "    print(\"True\")\n",
    "else:\n",
    "    print(\"False\")\n"
   ]
  },
  {
   "cell_type": "code",
   "execution_count": null,
   "id": "89cb8d53-2b26-4af7-894b-e4a2ecb34083",
   "metadata": {},
   "outputs": [],
   "source": [
    "a = int(input(\"Nhập a: \"))\n",
    "b = int(input(\"Nhập b: \"))\n",
    "c = int(input(\"Nhập c: \"))\n",
    "if a + b > c and a + c > b and b + c > a:\n",
    "    print(\"Yes\")\n",
    "else:\n",
    "    print(\"No\")\n"
   ]
  },
  {
   "cell_type": "code",
   "execution_count": null,
   "id": "3e2f47c8-9cad-41a3-b501-7610bd493877",
   "metadata": {},
   "outputs": [],
   "source": [
    "nums = [int(input(f\"Nhập số thứ {i+1}: \")) for i in range(4)]\n",
    "print(\"Số lớn nhất là:\", max(nums))\n"
   ]
  },
  {
   "cell_type": "code",
   "execution_count": null,
   "id": "34397013-7854-42e4-a71d-715d221b4899",
   "metadata": {},
   "outputs": [],
   "source": [
    "a, b, c = map(int, input(\"Nhập 3 cạnh a b c: \").split())\n",
    "if a + b <= c or a + c <= b or b + c <= a:\n",
    "    print(\"Không phải tam giác\")\n",
    "else:\n",
    "    if a == b == c:\n",
    "        print(\"Tam giác đều\")\n",
    "    elif a == b or b == c or a == c:\n",
    "        print(\"Tam giác cân\")\n",
    "    else:\n",
    "        print(\"Tam giác thường\")\n"
   ]
  },
  {
   "cell_type": "code",
   "execution_count": 6,
   "id": "f3b77b88-191b-42f4-8a40-17dd95add217",
   "metadata": {},
   "outputs": [
    {
     "name": "stdin",
     "output_type": "stream",
     "text": [
      "Nhập năm:  2024\n"
     ]
    },
    {
     "name": "stdout",
     "output_type": "stream",
     "text": [
      "Yes\n"
     ]
    }
   ],
   "source": [
    "year = int(input(\"Nhập năm: \"))\n",
    "if (year % 4 == 0 and year % 100 != 0) or (year % 400 == 0):\n",
    "    print(\"Yes\")\n",
    "else:\n",
    "    print(\"No\")\n"
   ]
  },
  {
   "cell_type": "code",
   "execution_count": 5,
   "id": "3d4df81b-aa37-4d46-aec7-b648e765507f",
   "metadata": {},
   "outputs": [
    {
     "name": "stdin",
     "output_type": "stream",
     "text": [
      "Nhập a:  4\n",
      "Nhập b:  5\n"
     ]
    },
    {
     "name": "stdout",
     "output_type": "stream",
     "text": [
      "Nghiệm x = -1.25\n"
     ]
    }
   ],
   "source": [
    "a = float(input(\"Nhập a: \"))\n",
    "b = float(input(\"Nhập b: \"))\n",
    "if a == 0:\n",
    "    if b == 0:\n",
    "        print(\"Vô số nghiệm\")\n",
    "    else:\n",
    "        print(\"Vô nghiệm\")\n",
    "else:\n",
    "    x = -b / a\n",
    "    print(\"Nghiệm x =\", round(x, 2))\n"
   ]
  },
  {
   "cell_type": "code",
   "execution_count": 4,
   "id": "e305dd9b-e5e1-43a1-8ed0-b7c52ea58504",
   "metadata": {},
   "outputs": [
    {
     "name": "stdin",
     "output_type": "stream",
     "text": [
      "Nhập điểm trung bình:  6.4\n"
     ]
    },
    {
     "name": "stdout",
     "output_type": "stream",
     "text": [
      "Trung bình\n"
     ]
    }
   ],
   "source": [
    "score = float(input(\"Nhập điểm trung bình: \"))\n",
    "if score >= 8.0:\n",
    "    print(\"Giỏi\")\n",
    "elif score >= 6.5:\n",
    "    print(\"Khá\")\n",
    "elif score >= 5.0:\n",
    "    print(\"Trung bình\")\n",
    "else:\n",
    "    print(\"Yếu\")\n"
   ]
  },
  {
   "cell_type": "code",
   "execution_count": 3,
   "id": "0bfa88c6-9012-41bf-94f6-b772644f03e5",
   "metadata": {},
   "outputs": [
    {
     "name": "stdin",
     "output_type": "stream",
     "text": [
      "Nhập số thực:  5\n"
     ]
    },
    {
     "name": "stdout",
     "output_type": "stream",
     "text": [
      "5 5 5\n"
     ]
    }
   ],
   "source": [
    "x = float(input(\"Nhập số thực: \"))\n",
    "nguyen = int(x)\n",
    "le = x - nguyen\n",
    "down = nguyen\n",
    "up = nguyen + (1 if le > 0 else 0)\n",
    "nearest = nguyen + (1 if le >= 0.5 else 0)\n",
    "print(down, up, nearest)\n"
   ]
  },
  {
   "cell_type": "code",
   "execution_count": 2,
   "id": "399bc935-3a32-4cf9-99e1-4394418fc648",
   "metadata": {},
   "outputs": [
    {
     "name": "stdin",
     "output_type": "stream",
     "text": [
      "Nhập 4 số a b c d:  1 2 3 4\n"
     ]
    },
    {
     "name": "stdout",
     "output_type": "stream",
     "text": [
      "No\n"
     ]
    }
   ],
   "source": [
    "a, b, c, d = map(int, input(\"Nhập 4 số a b c d: \").split())\n",
    "if b % a == 0:\n",
    "    r = b // a\n",
    "    if b * r == c and c * r == d:\n",
    "        print(\"Yes\")\n",
    "    else:\n",
    "        print(\"No\")\n",
    "else:\n",
    "    print(\"No\")\n"
   ]
  },
  {
   "cell_type": "code",
   "execution_count": null,
   "id": "3cceee13-2a05-431a-83b8-506a570105f8",
   "metadata": {},
   "outputs": [],
   "source": []
  }
 ],
 "metadata": {
  "kernelspec": {
   "display_name": "Python 3 (ipykernel)",
   "language": "python",
   "name": "python3"
  },
  "language_info": {
   "codemirror_mode": {
    "name": "ipython",
    "version": 3
   },
   "file_extension": ".py",
   "mimetype": "text/x-python",
   "name": "python",
   "nbconvert_exporter": "python",
   "pygments_lexer": "ipython3",
   "version": "3.13.5"
  }
 },
 "nbformat": 4,
 "nbformat_minor": 5
}
