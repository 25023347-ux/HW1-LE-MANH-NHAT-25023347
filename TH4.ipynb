{
 "cells": [
  {
   "cell_type": "code",
   "execution_count": null,
   "id": "1aae0d74-ccbc-4326-b00f-698db2c77f7e",
   "metadata": {},
   "outputs": [],
   "source": [
    "# Bai 1:\n",
    "# Viết chương trình Python sử dụng một trong hai loại vòng lặp for hoặc while để\n",
    "# tính tổng các số nguyên từ 1 đến n\n",
    "for i in range(start = 0, st0p, step = 1) \n",
    "range(stop): lap tu 0 den stop - 1\n",
    "range(start, stop): lap tu start den stop - 1, step = 1\n",
    "range(start, stop, step): lap tu start, den stop - 1, buoc nhay la step\n",
    "\n",
    "for i in range(91): i = 0, 1, 2, ..., 90\n",
    "for i in range(2, 10): i = 2, 3, 4, 5, ..., 9\n",
    "for i in range(2, 100, 2): i = 2, 4, 6, ..., 98\n",
    "\n",
    "for _ in range(10): So lan lap duoc quan tam\n"
   ]
  },
  {
   "cell_type": "code",
   "execution_count": 2,
   "id": "9cb3dbda-9cf8-48d8-979d-e586e2e2271a",
   "metadata": {},
   "outputs": [
    {
     "name": "stdin",
     "output_type": "stream",
     "text": [
      " 100\n"
     ]
    },
    {
     "name": "stdout",
     "output_type": "stream",
     "text": [
      "0 1 2 3 4 5 6 7 8 9 10 11 12 13 14 15 16 17 18 19 20 21 22 23 24 25 26 27 28 29 30 31 32 33 34 35 36 37 38 39 40 41 42 43 44 45 46 47 48 49 50 51 52 53 54 55 56 57 58 59 60 61 62 63 64 65 66 67 68 69 70 71 72 73 74 75 76 77 78 79 80 81 82 83 84 85 86 87 88 89 90 91 92 93 94 95 96 97 98 99 100 \n",
      " 5050\n"
     ]
    }
   ],
   "source": [
    "n = int(input())\n",
    "Sum = 0\n",
    "\n",
    "for i in range(n + 1):\n",
    "    print(i, end = ' ')\n",
    "    Sum += i   # Sum = Sum + i\n",
    "\n",
    "print(\"\\n\", Sum)\n",
    "\n"
   ]
  },
  {
   "cell_type": "code",
   "execution_count": 3,
   "id": "cb817849-cd11-440e-9b75-a02d0a7f978d",
   "metadata": {},
   "outputs": [
    {
     "name": "stdin",
     "output_type": "stream",
     "text": [
      "Nhap vao mot so nguyen duong:  -9\n"
     ]
    },
    {
     "name": "stdout",
     "output_type": "stream",
     "text": [
      "Ban phai nhap so nguyen duong de DUNG!\n"
     ]
    },
    {
     "name": "stdin",
     "output_type": "stream",
     "text": [
      "Nhap vao mot so nguyen duong:  -8\n"
     ]
    },
    {
     "name": "stdout",
     "output_type": "stream",
     "text": [
      "Ban phai nhap so nguyen duong de DUNG!\n"
     ]
    },
    {
     "name": "stdin",
     "output_type": "stream",
     "text": [
      "Nhap vao mot so nguyen duong:  1\n"
     ]
    },
    {
     "name": "stdout",
     "output_type": "stream",
     "text": [
      "So nguyen duong ban nhap duoc la:  1\n"
     ]
    }
   ],
   "source": [
    "# [PrimeNumber]\n",
    "# Viet chuong trinh nhap vao mot so toi khi duoc mot so nguyen duong thi thoi.\n",
    "\n",
    "n = 0\n",
    "for _ in range(10000):\n",
    "    n = int(input('Nhap vao mot so nguyen duong: '))\n",
    "    if (n > 0):\n",
    "        break\n",
    "    else:\n",
    "        print('Ban phai nhap so nguyen duong de DUNG!')\n",
    "\n",
    "print(\"So nguyen duong ban nhap duoc la: \", n)\n",
    "\n",
    "# Kiem tra so nay co phai la so nguyen to hay khong?\n"
   ]
  },
  {
   "cell_type": "code",
   "execution_count": 4,
   "id": "e1a1460b-e896-4c0c-bb94-7018faa26637",
   "metadata": {},
   "outputs": [
    {
     "name": "stdin",
     "output_type": "stream",
     "text": [
      "Nhap n:  2\n"
     ]
    },
    {
     "name": "stdout",
     "output_type": "stream",
     "text": [
      "Giai thua cua 2 la: 2\n"
     ]
    }
   ],
   "source": [
    "n = int(input(\"Nhap n: \"))\n",
    "gt = 1\n",
    "for i in range(1, n + 1):\n",
    "    gt *= i\n",
    "print(\"Giai thua cua\", n, \"la:\", gt)\n"
   ]
  },
  {
   "cell_type": "code",
   "execution_count": 5,
   "id": "130f995d-0503-4c10-aada-386225b9af87",
   "metadata": {},
   "outputs": [
    {
     "name": "stdin",
     "output_type": "stream",
     "text": [
      "Nhap so nguyen:  3\n"
     ]
    },
    {
     "name": "stdout",
     "output_type": "stream",
     "text": [
      "So chu so cua so do la: 1\n"
     ]
    }
   ],
   "source": [
    "n = int(input(\"Nhap so nguyen: \"))\n",
    "t = abs(n)\n",
    "dem = 0\n",
    "if t == 0:\n",
    "    dem = 1\n",
    "else:\n",
    "    while t > 0:\n",
    "        t //= 10\n",
    "        dem += 1\n",
    "print(\"So chu so cua so do la:\", dem)\n"
   ]
  },
  {
   "cell_type": "code",
   "execution_count": 13,
   "id": "d6977af5-ac64-4433-b448-d0d8d0f6aa5c",
   "metadata": {},
   "outputs": [
    {
     "name": "stdin",
     "output_type": "stream",
     "text": [
      " 4\n",
      " 2 3 42 1\n"
     ]
    },
    {
     "name": "stdout",
     "output_type": "stream",
     "text": [
      "I've found the meaning of life\n"
     ]
    }
   ],
   "source": [
    "#W4A5\n",
    "n = int(input())\n",
    "if n <= 0:\n",
    "    print('so khong hop le')\n",
    "else:\n",
    "    s = list(map(int, input().split()))\n",
    "    if 42 in s:\n",
    "        print(\"I've found the meaning of life\")\n",
    "    else:\n",
    "        print(\"It's a joke\")"
   ]
  },
  {
   "cell_type": "code",
   "execution_count": 12,
   "id": "96181bb2-93e3-4827-a96b-30d7a8e35122",
   "metadata": {},
   "outputs": [
    {
     "name": "stdin",
     "output_type": "stream",
     "text": [
      " 1 7\n"
     ]
    },
    {
     "name": "stdout",
     "output_type": "stream",
     "text": [
      "17\n"
     ]
    }
   ],
   "source": [
    "#W4A6\n",
    "A = []\n",
    "a, b = map(int, input().split())\n",
    "\n",
    "if a < b:\n",
    "    for n in range(a, b + 1):\n",
    "        if n > 1:\n",
    "            t = True\n",
    "            for i in range(2, n):\n",
    "                if n % i == 0:\n",
    "                    t = False\n",
    "                    break\n",
    "            if t:\n",
    "                A.append(n)\n",
    "    print(sum(A))\n",
    "else:\n",
    "    print('khong hop le')"
   ]
  },
  {
   "cell_type": "code",
   "execution_count": 9,
   "id": "d9655e0a-ef48-478b-bbe8-6dd55ce54c45",
   "metadata": {},
   "outputs": [
    {
     "name": "stdin",
     "output_type": "stream",
     "text": [
      " 123\n"
     ]
    },
    {
     "name": "stdout",
     "output_type": "stream",
     "text": [
      "Ước số nguyên tố của 123 là: [3, 41]\n"
     ]
    }
   ],
   "source": [
    "#W4A7\n",
    "n = int(input())\n",
    "A = []\n",
    "if n < 2:\n",
    "    print('khong hop le')\n",
    "else:\n",
    "    for i in range(2, n + 1):\n",
    "        if n % i == 0:  # i là ước số của n\n",
    "            for v in range(2, i):\n",
    "                if i % v == 0:\n",
    "                    break  # i không phải số nguyên tố\n",
    "            else:\n",
    "                # vòng for trên kết thúc mà không gặp break -> i là số nguyên tố\n",
    "                A.append(i)\n",
    "    print(\"Ước số nguyên tố của\", n, \"là:\", A)\n",
    "    "
   ]
  },
  {
   "cell_type": "code",
   "execution_count": 11,
   "id": "5dacf47f-020b-4747-bd50-5e003e9ccf18",
   "metadata": {},
   "outputs": [
    {
     "name": "stdin",
     "output_type": "stream",
     "text": [
      " 12\n"
     ]
    },
    {
     "name": "stdout",
     "output_type": "stream",
     "text": [
      "1 2 3 "
     ]
    }
   ],
   "source": [
    "#W4A9\n",
    "n = int(input())\n",
    "f = True\n",
    "for i in range(1, n + 1):\n",
    "    if i ** 2 < n:\n",
    "        f = True\n",
    "        print(i, end=' ')\n",
    "    else:\n",
    "        break\n",
    "if not f:\n",
    "    print('no number')"
   ]
  },
  {
   "cell_type": "code",
   "execution_count": null,
   "id": "987d4478-8e4b-45c8-b6d5-edd97492ce94",
   "metadata": {},
   "outputs": [],
   "source": []
  }
 ],
 "metadata": {
  "kernelspec": {
   "display_name": "Python 3 (ipykernel)",
   "language": "python",
   "name": "python3"
  },
  "language_info": {
   "codemirror_mode": {
    "name": "ipython",
    "version": 3
   },
   "file_extension": ".py",
   "mimetype": "text/x-python",
   "name": "python",
   "nbconvert_exporter": "python",
   "pygments_lexer": "ipython3",
   "version": "3.13.5"
  }
 },
 "nbformat": 4,
 "nbformat_minor": 5
}
