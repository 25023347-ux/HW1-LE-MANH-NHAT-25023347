{
 "cells": [
  {
   "cell_type": "code",
   "execution_count": 1,
   "id": "32552a4d-a1dd-4ae2-a536-34acb96b98be",
   "metadata": {},
   "outputs": [
    {
     "name": "stdout",
     "output_type": "stream",
     "text": [
      "8\n"
     ]
    }
   ],
   "source": [
    "a=6\n",
    "b=2\n",
    "print (a+b)\n"
   ]
  },
  {
   "cell_type": "code",
   "execution_count": null,
   "id": "2992abf0-9e6c-49c1-895a-589d0ad3e5ae",
   "metadata": {},
   "outputs": [],
   "source": []
  }
 ],
 "metadata": {
  "kernelspec": {
   "display_name": "Python 3 (ipykernel)",
   "language": "python",
   "name": "python3"
  },
  "language_info": {
   "codemirror_mode": {
    "name": "ipython",
    "version": 3
   },
   "file_extension": ".py",
   "mimetype": "text/x-python",
   "name": "python",
   "nbconvert_exporter": "python",
   "pygments_lexer": "ipython3",
   "version": "3.13.5"
  }
 },
 "nbformat": 4,
 "nbformat_minor": 5
}
