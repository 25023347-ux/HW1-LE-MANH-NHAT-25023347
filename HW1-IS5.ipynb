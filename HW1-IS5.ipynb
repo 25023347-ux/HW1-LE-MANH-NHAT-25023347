{
 "cells": [
  {
   "cell_type": "code",
   "execution_count": 2,
   "id": "2992abf0-9e6c-49c1-895a-589d0ad3e5ae",
   "metadata": {},
   "outputs": [
    {
     "name": "stdin",
     "output_type": "stream",
     "text": [
      "Nhập số nguyên n:  5\n"
     ]
    },
    {
     "name": "stdout",
     "output_type": "stream",
     "text": [
      "Gấp đôi của 5 là: 10\n"
     ]
    }
   ],
   "source": [
    "n = int(input(\"Số nguyên n: \"))\n",
    "print(\"Gấp đôi của\", n, \"là:\", 2 * n)"
   ]
  },
  {
   "cell_type": "code",
   "execution_count": 9,
   "id": "570af3e4-53ba-426c-a97d-53cbcd0c2c0a",
   "metadata": {},
   "outputs": [
    {
     "name": "stdin",
     "output_type": "stream",
     "text": [
      "Chiều rộng a:  2\n",
      "Chiều dài b:  6\n"
     ]
    },
    {
     "name": "stdout",
     "output_type": "stream",
     "text": [
      "Diện tích trồng cây: 8.86\n"
     ]
    }
   ],
   "source": [
    "a = float(input(\"Chiều rộng a: \"))\n",
    "b = float(input(\"Chiều dài b: \"))\n",
    "\n",
    "r = min(a, b) / 2\n",
    "dien_tich_con_lai = a * b - 3.14 * (r ** 2)\n",
    "\n",
    "print(\"Diện tích trồng cây:\", round(dien_tich_con_lai, 2))\n"
   ]
  },
  {
   "cell_type": "code",
   "execution_count": 10,
   "id": "43273edb-a288-4ba7-b0b1-cf54166a0dca",
   "metadata": {},
   "outputs": [
    {
     "name": "stdin",
     "output_type": "stream",
     "text": [
      "Ký tự:  K\n"
     ]
    },
    {
     "name": "stdout",
     "output_type": "stream",
     "text": [
      "k\n"
     ]
    }
   ],
   "source": [
    "c = input(\"Ký tự: \")\n",
    "\n",
    "if c.isupper():\n",
    "    print(c.lower())\n",
    "else:\n",
    "    print(c.upper())\n"
   ]
  },
  {
   "cell_type": "code",
   "execution_count": 11,
   "id": "d5786204-cbb6-43c7-954f-da51d8758077",
   "metadata": {},
   "outputs": [
    {
     "name": "stdin",
     "output_type": "stream",
     "text": [
      "Ký tự:  2\n"
     ]
    },
    {
     "name": "stdout",
     "output_type": "stream",
     "text": [
      "2 không phải là ký tự alphabet\n"
     ]
    }
   ],
   "source": [
    "c = input(\"Ký tự: \")\n",
    "\n",
    "if c.isalpha():\n",
    "    print(c, \"là ký tự alphabet\")\n",
    "else:\n",
    "    print(c, \"không phải là ký tự alphabet\")\n"
   ]
  },
  {
   "cell_type": "code",
   "execution_count": 12,
   "id": "fb7ada01-fcbb-4710-b27e-7a73c33adf07",
   "metadata": {},
   "outputs": [
    {
     "name": "stdin",
     "output_type": "stream",
     "text": [
      "Ký tự:  M\n"
     ]
    },
    {
     "name": "stdout",
     "output_type": "stream",
     "text": [
      "l\n"
     ]
    }
   ],
   "source": [
    "c = input(\"Ký tự: \")\n",
    "\n",
    "if c.isupper():\n",
    "    if c == 'A':\n",
    "        print(\"z\")\n",
    "    else:\n",
    "        prev_char = chr(ord(c) - 1).lower()\n",
    "        print(prev_char)\n",
    "else:\n",
    "    print(\"Không phải chữ cái hoa\")\n"
   ]
  },
  {
   "cell_type": "code",
   "execution_count": 13,
   "id": "bc8e0b64-6432-4d58-a501-b340041c985e",
   "metadata": {},
   "outputs": [
    {
     "name": "stdin",
     "output_type": "stream",
     "text": [
      "a:  2\n",
      "b:  3\n",
      "c:  5\n"
     ]
    },
    {
     "name": "stdout",
     "output_type": "stream",
     "text": [
      "Không phải ba cạnh của tam giác\n"
     ]
    }
   ],
   "source": [
    "import math\n",
    "\n",
    "a = float(input(\"a: \"))\n",
    "b = float(input(\"b: \"))\n",
    "c = float(input(\"c: \"))\n",
    "\n",
    "if a + b > c and a + c > b and b + c > a:\n",
    "    p = (a + b + c) / 2\n",
    "    s = math.sqrt(p * (p - a) * (p - b) * (p - c))\n",
    "    print(f\"Diện tích tam giác = {s:.1f}\")\n",
    "else:\n",
    "    print(\"Không phải ba cạnh của tam giác\")\n"
   ]
  },
  {
   "cell_type": "code",
   "execution_count": 15,
   "id": "f6afa779-e4ea-474c-a000-6743c75c1ef5",
   "metadata": {},
   "outputs": [
    {
     "name": "stdin",
     "output_type": "stream",
     "text": [
      "Chuỗi (chỉ chữ thường, dài >= 20):  abuuffjsjhksdjgkjfglfisgjsdjfkl\n"
     ]
    },
    {
     "name": "stdout",
     "output_type": "stream",
     "text": [
      "Ký tự thứ 5: f\n",
      "Ký tự thứ 9: j\n"
     ]
    }
   ],
   "source": [
    "s = input(\"Chuỗi (chỉ chữ thường, dài >= 20): \")\n",
    "\n",
    "if len(s) >= 20 and s.islower():\n",
    "    print(\"Ký tự thứ 5:\", s[4])\n",
    "    print(\"Ký tự thứ 9:\", s[8])\n",
    "else:\n",
    "    print(\"Chuỗi không hợp lệ\")\n"
   ]
  },
  {
   "cell_type": "code",
   "execution_count": 16,
   "id": "91b6e010-0b3d-4ec7-b715-e4c69b565dc2",
   "metadata": {},
   "outputs": [
    {
     "name": "stdin",
     "output_type": "stream",
     "text": [
      "Ten chu ho:  Le Manh Nhat\n",
      "Chi so thang truoc:  1234\n",
      "Chi so thang nay:  1280\n"
     ]
    },
    {
     "name": "stdout",
     "output_type": "stream",
     "text": [
      "Ho va ten: Le Manh Nhat\n",
      "Tien phai tra la: 98565\n"
     ]
    }
   ],
   "source": [
    "name = input(\"Ten chu ho: \")\n",
    "old = int(input(\"Chi so thang truoc: \"))\n",
    "new = int(input(\"Chi so thang nay: \"))\n",
    "\n",
    "used = new - old\n",
    "total = 0\n",
    "\n",
    "if used <= 50:\n",
    "    total = used * 1984\n",
    "elif used <= 100:\n",
    "    total = 50 * 1984 + (used - 50) * 2050\n",
    "elif used <= 200:\n",
    "    total = 50 * 1984 + 50 * 2050 + (used - 100) * 2380\n",
    "elif used <= 300:\n",
    "    total = 50 * 1984 + 50 * 2050 + 100 * 2380 + (used - 200) * 2998\n",
    "elif used <= 400:\n",
    "    total = 50 * 1984 + 50 * 2050 + 100 * 2380 + 100 * 2998 + (used - 300) * 3350\n",
    "else:\n",
    "    total = 50 * 1984 + 50 * 2050 + 100 * 2380 + 100 * 2998 + 100 * 3350 + (used - 400) * 3460\n",
    "\n",
    "total_with_vat = int(total * 1.08)\n",
    "\n",
    "print(\"Ho va ten:\", name)\n",
    "print(\"Tien phai tra la:\", total_with_vat)\n"
   ]
  },
  {
   "cell_type": "code",
   "execution_count": 17,
   "id": "0a26442c-57de-44e7-8754-cb6c4597ce9f",
   "metadata": {},
   "outputs": [
    {
     "name": "stdin",
     "output_type": "stream",
     "text": [
      "Số nguyên:  6\n"
     ]
    },
    {
     "name": "stdout",
     "output_type": "stream",
     "text": [
      "Số chẵn\n"
     ]
    }
   ],
   "source": [
    "n = int(input(\"Số nguyên: \"))\n",
    "if n % 2 == 0:\n",
    "    print(\"Số chẵn\")\n",
    "else:\n",
    "    print(\"Số lẻ\")\n"
   ]
  },
  {
   "cell_type": "code",
   "execution_count": 18,
   "id": "deea5246-5981-4108-a860-92c541f5c21a",
   "metadata": {},
   "outputs": [
    {
     "name": "stdin",
     "output_type": "stream",
     "text": [
      "Số nguyên:  15\n"
     ]
    },
    {
     "name": "stdout",
     "output_type": "stream",
     "text": [
      "True\n"
     ]
    }
   ],
   "source": [
    "n = int(input(\"Số nguyên: \"))\n",
    "if n % 10 == 5 or n % 10 == 0:\n",
    "    print(\"True\")\n",
    "else:\n",
    "    print(\"False\")\n"
   ]
  },
  {
   "cell_type": "code",
   "execution_count": 19,
   "id": "98a53c09-c621-479d-a22a-b72faa4fa5f8",
   "metadata": {},
   "outputs": [
    {
     "name": "stdin",
     "output_type": "stream",
     "text": [
      "Số nguyên:  6\n"
     ]
    },
    {
     "name": "stdout",
     "output_type": "stream",
     "text": [
      "False\n"
     ]
    }
   ],
   "source": [
    "n = int(input(\"Số nguyên: \"))\n",
    "if n % 3 == 0 and n % 5 == 0:\n",
    "    print(\"True\")\n",
    "else:\n",
    "    print(\"False\")\n"
   ]
  },
  {
   "cell_type": "code",
   "execution_count": 20,
   "id": "29ea66ec-a8bf-4986-a3e1-1b484943b7a3",
   "metadata": {},
   "outputs": [
    {
     "name": "stdin",
     "output_type": "stream",
     "text": [
      "Năm sinh:  2007\n"
     ]
    },
    {
     "name": "stdout",
     "output_type": "stream",
     "text": [
      "Đủ tuổi bầu cử\n"
     ]
    }
   ],
   "source": [
    "namsinh = int(input(\"Năm sinh: \"))\n",
    "tuoi = 2025 - namsinh\n",
    "\n",
    "if tuoi >= 18:\n",
    "    print(\"Đủ tuổi bầu cử\")\n",
    "else:\n",
    "    print(\"Chưa đủ tuổi bầu cử\")\n"
   ]
  },
  {
   "cell_type": "code",
   "execution_count": 21,
   "id": "10dfb0aa-3ed5-44ff-97a7-403a68d70d73",
   "metadata": {},
   "outputs": [
    {
     "name": "stdin",
     "output_type": "stream",
     "text": [
      "a:  5\n",
      "b:  8\n"
     ]
    },
    {
     "name": "stdout",
     "output_type": "stream",
     "text": [
      "b lớn hơn a\n"
     ]
    }
   ],
   "source": [
    "a = int(input(\"a: \"))\n",
    "b = int(input(\"b: \"))\n",
    "\n",
    "if a > b:\n",
    "    print(\"a lớn hơn b\")\n",
    "elif a < b:\n",
    "    print(\"b lớn hơn a\")\n",
    "else:\n",
    "    print(\"Hai số bằng nhau\")\n"
   ]
  },
  {
   "cell_type": "code",
   "execution_count": 22,
   "id": "b6208a78-1f24-48af-ab92-e65802e8c5db",
   "metadata": {},
   "outputs": [
    {
     "name": "stdin",
     "output_type": "stream",
     "text": [
      "Ký tự:  6\n"
     ]
    },
    {
     "name": "stdout",
     "output_type": "stream",
     "text": [
      "Chữ số\n"
     ]
    }
   ],
   "source": [
    "c = input(\"Ký tự: \")\n",
    "\n",
    "if c.isalpha():\n",
    "    print(\"Chữ cái\")\n",
    "elif c.isdigit():\n",
    "    print(\"Chữ số\")\n",
    "else:\n",
    "    print(\"Không phải chữ cái hoặc chữ số\")\n"
   ]
  },
  {
   "cell_type": "code",
   "execution_count": 23,
   "id": "549c77c2-87df-459c-ac1c-b2c18a04b976",
   "metadata": {},
   "outputs": [
    {
     "name": "stdin",
     "output_type": "stream",
     "text": [
      "Điểm (0-10):  7\n"
     ]
    },
    {
     "name": "stdout",
     "output_type": "stream",
     "text": [
      "Khá\n"
     ]
    }
   ],
   "source": [
    "diem = float(input(\"Điểm (0-10): \"))\n",
    "\n",
    "if diem >= 8:\n",
    "    print(\"Giỏi\")\n",
    "elif diem >= 6.5:\n",
    "    print(\"Khá\")\n",
    "elif diem >= 5:\n",
    "    print(\"Trung bình\")\n",
    "else:\n",
    "    print(\"Yếu\")\n"
   ]
  },
  {
   "cell_type": "code",
   "execution_count": 24,
   "id": "cb8bd15b-07e8-41b4-99cc-da4356167df4",
   "metadata": {},
   "outputs": [
    {
     "name": "stdin",
     "output_type": "stream",
     "text": [
      "Năm:  2025\n"
     ]
    },
    {
     "name": "stdout",
     "output_type": "stream",
     "text": [
      "Không phải năm nhuận\n"
     ]
    }
   ],
   "source": [
    "nam = int(input(\"Năm: \"))\n",
    "\n",
    "if (nam % 400 == 0) or (nam % 4 == 0 and nam % 100 != 0):\n",
    "    print(\"Năm nhuận\")\n",
    "else:\n",
    "    print(\"Không phải năm nhuận\")\n"
   ]
  },
  {
   "cell_type": "code",
   "execution_count": 25,
   "id": "698b6ff3-12a7-4325-b403-c2d6f971f57c",
   "metadata": {},
   "outputs": [
    {
     "name": "stdin",
     "output_type": "stream",
     "text": [
      "Số nguyên từ 0 đến 9:  7\n"
     ]
    },
    {
     "name": "stdout",
     "output_type": "stream",
     "text": [
      "Tên của số là: Bảy\n"
     ]
    }
   ],
   "source": [
    "n = int(input(\"Số nguyên từ 0 đến 9: \"))\n",
    "chu = [\"Không\", \"Một\", \"Hai\", \"Ba\", \"Bốn\", \"Năm\", \"Sáu\", \"Bảy\", \"Tám\", \"Chín\"]\n",
    "\n",
    "if 0 <= n <= 9:\n",
    "    print(\"Tên của số là:\", chu[n])\n",
    "else:\n",
    "    print(\"Không hợp lệ\")\n"
   ]
  },
  {
   "cell_type": "code",
   "execution_count": 26,
   "id": "e60784d6-508d-4195-b08a-8a40e5c9dd0f",
   "metadata": {},
   "outputs": [
    {
     "name": "stdin",
     "output_type": "stream",
     "text": [
      "Điểm:  4\n"
     ]
    },
    {
     "name": "stdout",
     "output_type": "stream",
     "text": [
      "Qua môn\n"
     ]
    }
   ],
   "source": [
    "diem = float(input(\"Điểm: \"))\n",
    "\n",
    "if diem >= 4:\n",
    "    print(\"Qua môn\")\n",
    "else:\n",
    "    print(\"Học lại\")\n"
   ]
  },
  {
   "cell_type": "code",
   "execution_count": 27,
   "id": "12bc8413-0467-430b-b3a4-31b474c4cd22",
   "metadata": {},
   "outputs": [
    {
     "name": "stdin",
     "output_type": "stream",
     "text": [
      "Năm sinh:  2005\n"
     ]
    },
    {
     "name": "stdout",
     "output_type": "stream",
     "text": [
      "Tuổi: 20\n",
      "Đủ 18 tuổi\n"
     ]
    }
   ],
   "source": [
    "namsinh = int(input(\"Năm sinh: \"))\n",
    "tuoi = 2025 - namsinh\n",
    "\n",
    "print(\"Tuổi:\", tuoi)\n",
    "\n",
    "if tuoi >= 18:\n",
    "    print(\"Đủ 18 tuổi\")\n",
    "else:\n",
    "    print(\"Chưa đủ 18 tuổi\")\n"
   ]
  },
  {
   "cell_type": "code",
   "execution_count": null,
   "id": "f2021578-7e60-4d29-8523-d2ef49b51ef2",
   "metadata": {},
   "outputs": [],
   "source": []
  }
 ],
 "metadata": {
  "kernelspec": {
   "display_name": "Python 3 (ipykernel)",
   "language": "python",
   "name": "python3"
  },
  "language_info": {
   "codemirror_mode": {
    "name": "ipython",
    "version": 3
   },
   "file_extension": ".py",
   "mimetype": "text/x-python",
   "name": "python",
   "nbconvert_exporter": "python",
   "pygments_lexer": "ipython3",
   "version": "3.13.5"
  }
 },
 "nbformat": 4,
 "nbformat_minor": 5
}
